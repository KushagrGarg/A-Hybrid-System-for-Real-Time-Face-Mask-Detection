{
 "cells": [
  {
   "cell_type": "markdown",
   "id": "nutritional-browser",
   "metadata": {},
   "source": [
    "# DATAPREPROCESSING"
   ]
  },
  {
   "cell_type": "code",
   "execution_count": 1,
   "id": "bizarre-general",
   "metadata": {},
   "outputs": [
    {
     "name": "stdout",
     "output_type": "stream",
     "text": [
      "[0, 1]\n",
      "ResizedImage.pkl dumped\n",
      "labels.pkl dumped\n",
      "label.pkl dumped\n"
     ]
    }
   ],
   "source": [
    "from datapreprocessing import * \n",
    "resize=Preprocessing(\"./dataset/\")\n",
    "resize.Scan_folder()\n",
    "resize.Resize()"
   ]
  },
  {
   "cell_type": "markdown",
   "id": "thorough-caribbean",
   "metadata": {},
   "source": [
    "# Training"
   ]
  },
  {
   "cell_type": "code",
   "execution_count": 2,
   "id": "comprehensive-workshop",
   "metadata": {},
   "outputs": [],
   "source": [
    "from models import *"
   ]
  },
  {
   "cell_type": "code",
   "execution_count": 3,
   "id": "exclusive-astrology",
   "metadata": {},
   "outputs": [
    {
     "name": "stdout",
     "output_type": "stream",
     "text": [
      "(1376, 100, 100, 1) (1376, 2)\n"
     ]
    }
   ],
   "source": [
    "clf=Model1(\"./ResizedImage.pkl\",\"./labels.pkl\")"
   ]
  },
  {
   "cell_type": "code",
   "execution_count": 4,
   "id": "golden-specification",
   "metadata": {},
   "outputs": [
    {
     "name": "stdout",
     "output_type": "stream",
     "text": [
      "Model: \"sequential\"\n",
      "_________________________________________________________________\n",
      "Layer (type)                 Output Shape              Param #   \n",
      "=================================================================\n",
      "conv2d (Conv2D)              (None, 98, 98, 200)       2000      \n",
      "_________________________________________________________________\n",
      "activation (Activation)      (None, 98, 98, 200)       0         \n",
      "_________________________________________________________________\n",
      "max_pooling2d (MaxPooling2D) (None, 49, 49, 200)       0         \n",
      "_________________________________________________________________\n",
      "conv2d_1 (Conv2D)            (None, 47, 47, 100)       180100    \n",
      "_________________________________________________________________\n",
      "activation_1 (Activation)    (None, 47, 47, 100)       0         \n",
      "_________________________________________________________________\n",
      "max_pooling2d_1 (MaxPooling2 (None, 23, 23, 100)       0         \n",
      "_________________________________________________________________\n",
      "flatten (Flatten)            (None, 52900)             0         \n",
      "_________________________________________________________________\n",
      "dropout (Dropout)            (None, 52900)             0         \n",
      "_________________________________________________________________\n",
      "dense (Dense)                (None, 50)                2645050   \n",
      "_________________________________________________________________\n",
      "dense_1 (Dense)              (None, 2)                 102       \n",
      "=================================================================\n",
      "Total params: 2,827,252\n",
      "Trainable params: 2,827,252\n",
      "Non-trainable params: 0\n",
      "_________________________________________________________________\n",
      "None\n"
     ]
    }
   ],
   "source": [
    "clf.CNNModel()"
   ]
  },
  {
   "cell_type": "code",
   "execution_count": 5,
   "id": "adapted-hamilton",
   "metadata": {},
   "outputs": [
    {
     "name": "stdout",
     "output_type": "stream",
     "text": [
      "Epoch 1/20\n",
      "31/31 [==============================] - 37s 1s/step - loss: 0.7533 - accuracy: 0.5325 - val_loss: 0.6084 - val_accuracy: 0.6492\n",
      "INFO:tensorflow:Assets written to: model-001.model/assets\n",
      "Epoch 2/20\n",
      "31/31 [==============================] - 61s 2s/step - loss: 0.5357 - accuracy: 0.7310 - val_loss: 0.4252 - val_accuracy: 0.8347\n",
      "INFO:tensorflow:Assets written to: model-002.model/assets\n",
      "Epoch 3/20\n",
      "31/31 [==============================] - 58s 2s/step - loss: 0.3444 - accuracy: 0.8633 - val_loss: 0.2987 - val_accuracy: 0.9153\n",
      "INFO:tensorflow:Assets written to: model-003.model/assets\n",
      "Epoch 4/20\n",
      "31/31 [==============================] - 42s 1s/step - loss: 0.2410 - accuracy: 0.9056 - val_loss: 0.3329 - val_accuracy: 0.8508\n",
      "Epoch 5/20\n",
      "31/31 [==============================] - 39s 1s/step - loss: 0.1442 - accuracy: 0.9370 - val_loss: 0.2000 - val_accuracy: 0.9274\n",
      "INFO:tensorflow:Assets written to: model-005.model/assets\n",
      "Epoch 6/20\n",
      "31/31 [==============================] - 37s 1s/step - loss: 0.0961 - accuracy: 0.9735 - val_loss: 0.1956 - val_accuracy: 0.9355\n",
      "INFO:tensorflow:Assets written to: model-006.model/assets\n",
      "Epoch 7/20\n",
      "31/31 [==============================] - 39s 1s/step - loss: 0.0724 - accuracy: 0.9797 - val_loss: 0.1992 - val_accuracy: 0.9274\n",
      "Epoch 8/20\n",
      "31/31 [==============================] - 42s 1s/step - loss: 0.0612 - accuracy: 0.9752 - val_loss: 0.1801 - val_accuracy: 0.9355\n",
      "INFO:tensorflow:Assets written to: model-008.model/assets\n",
      "Epoch 9/20\n",
      "31/31 [==============================] - 40s 1s/step - loss: 0.0725 - accuracy: 0.9749 - val_loss: 0.2008 - val_accuracy: 0.9395\n",
      "Epoch 10/20\n",
      "31/31 [==============================] - 40s 1s/step - loss: 0.0673 - accuracy: 0.9739 - val_loss: 0.1993 - val_accuracy: 0.9476\n",
      "Epoch 11/20\n",
      "31/31 [==============================] - 37s 1s/step - loss: 0.0511 - accuracy: 0.9823 - val_loss: 0.2373 - val_accuracy: 0.8992\n",
      "Epoch 12/20\n",
      "31/31 [==============================] - 53s 2s/step - loss: 0.0574 - accuracy: 0.9820 - val_loss: 0.1582 - val_accuracy: 0.9476\n",
      "INFO:tensorflow:Assets written to: model-012.model/assets\n",
      "Epoch 13/20\n",
      "31/31 [==============================] - 58s 2s/step - loss: 0.0379 - accuracy: 0.9901 - val_loss: 0.1616 - val_accuracy: 0.9435\n",
      "Epoch 14/20\n",
      "31/31 [==============================] - 62s 2s/step - loss: 0.0374 - accuracy: 0.9841 - val_loss: 0.2907 - val_accuracy: 0.9153\n",
      "Epoch 15/20\n",
      "31/31 [==============================] - 60s 2s/step - loss: 0.0358 - accuracy: 0.9867 - val_loss: 0.1642 - val_accuracy: 0.9355\n",
      "Epoch 16/20\n",
      "31/31 [==============================] - 66s 2s/step - loss: 0.0257 - accuracy: 0.9922 - val_loss: 0.2474 - val_accuracy: 0.9274\n",
      "Epoch 17/20\n",
      "31/31 [==============================] - 54s 2s/step - loss: 0.0161 - accuracy: 0.9936 - val_loss: 0.1602 - val_accuracy: 0.9435\n",
      "Epoch 18/20\n",
      "31/31 [==============================] - 63s 2s/step - loss: 0.0183 - accuracy: 0.9936 - val_loss: 0.2158 - val_accuracy: 0.9435\n",
      "Epoch 19/20\n",
      "31/31 [==============================] - 37s 1s/step - loss: 0.0134 - accuracy: 0.9962 - val_loss: 0.1661 - val_accuracy: 0.9476\n",
      "Epoch 20/20\n",
      "31/31 [==============================] - 45s 1s/step - loss: 0.0092 - accuracy: 0.9963 - val_loss: 0.2696 - val_accuracy: 0.9274\n"
     ]
    }
   ],
   "source": [
    "history=clf.trainCNNNmodel()"
   ]
  },
  {
   "cell_type": "code",
   "execution_count": 5,
   "id": "labeled-stamp",
   "metadata": {},
   "outputs": [
    {
     "data": {
      "image/png": "[encoded data removed]",
      "text/plain": [
       "<Figure size 432x288 with 2 Axes>"
      ]
     },
     "metadata": {
      "needs_background": "light"
     },
     "output_type": "display_data"
    }
   ],
   "source": [
    "clf.plot()"
   ]
  },
  {
   "cell_type": "code",
   "execution_count": null,
   "id": "finite-fundamentals",
   "metadata": {},
   "outputs": [],
   "source": [
    "#clf.evalutae()"
   ]
  },
  {
   "cell_type": "raw",
   "id": "forced-discrimination",
   "metadata": {},
   "source": [
    "CNN WITH SVM AND PCA "
   ]
  },
  {
   "cell_type": "code",
   "execution_count": 1,
   "id": "efficient-league",
   "metadata": {},
   "outputs": [],
   "source": [
    "from model2 import *"
   ]
  },
  {
   "cell_type": "code",
   "execution_count": 2,
   "id": "strong-meaning",
   "metadata": {},
   "outputs": [
    {
     "name": "stdout",
     "output_type": "stream",
     "text": [
      "(1376, 100, 100, 1) (1376,)\n"
     ]
    }
   ],
   "source": [
    "cnn_svm=model2(\"./ResizedImage.pkl\",\"./label.pkl\")"
   ]
  },
  {
   "cell_type": "code",
   "execution_count": 3,
   "id": "together-howard",
   "metadata": {},
   "outputs": [],
   "source": [
    "cnn_svm.CNN()"
   ]
  },
  {
   "cell_type": "code",
   "execution_count": 4,
   "id": "several-cartoon",
   "metadata": {},
   "outputs": [
    {
     "name": "stdout",
     "output_type": "stream",
     "text": [
      "*****Training Using SVM**************\n",
      "(1376, 256)\n"
     ]
    }
   ],
   "source": [
    "cnn_svm.SVM_PCATrain()"
   ]
  },
  {
   "cell_type": "markdown",
   "id": "subject-converter",
   "metadata": {},
   "source": [
    "# Testing"
   ]
  },
  {
   "cell_type": "code",
   "execution_count": 5,
   "id": "substantial-sound",
   "metadata": {},
   "outputs": [
    {
     "name": "stdout",
     "output_type": "stream",
     "text": [
      "Test Accuracy Using SVM: 0.9637681159420289\n"
     ]
    }
   ],
   "source": [
    "cnn_svm.TestAccuracy()"
   ]
  },
  {
   "cell_type": "markdown",
   "id": "encouraging-shelf",
   "metadata": {},
   "source": [
    "# LIVETEST"
   ]
  },
  {
   "cell_type": "code",
   "execution_count": 1,
   "id": "stretch-guide",
   "metadata": {},
   "outputs": [],
   "source": [
    "from Livetest import *"
   ]
  },
  {
   "cell_type": "code",
   "execution_count": 2,
   "id": "renewable-avatar",
   "metadata": {},
   "outputs": [],
   "source": [
    "tester=LiveTest()"
   ]
  },
  {
   "cell_type": "code",
   "execution_count": 3,
   "id": "baking-sword",
   "metadata": {},
   "outputs": [
    {
     "ename": "KeyboardInterrupt",
     "evalue": "",
     "output_type": "error",
     "traceback": [
      "\u001b[0;31m---------------------------------------------------------------------------\u001b[0m",
      "\u001b[0;31mKeyboardInterrupt\u001b[0m                         Traceback (most recent call last)",
      "\u001b[0;32m<ipython-input-3-70b391be223b>\u001b[0m in \u001b[0;36m<module>\u001b[0;34m\u001b[0m\n\u001b[0;32m----> 1\u001b[0;31m \u001b[0mtester\u001b[0m\u001b[0;34m.\u001b[0m\u001b[0mTest\u001b[0m\u001b[0;34m(\u001b[0m\u001b[0;34m)\u001b[0m\u001b[0;34m\u001b[0m\u001b[0;34m\u001b[0m\u001b[0m\n\u001b[0m",
      "\u001b[0;32m~/Downloads/Face-Mask-Detection-with-Keras-master/Livetest.py\u001b[0m in \u001b[0;36mTest\u001b[0;34m(self)\u001b[0m\n\u001b[1;32m     34\u001b[0m         \u001b[0mcolor_dict\u001b[0m\u001b[0;34m=\u001b[0m\u001b[0;34m{\u001b[0m\u001b[0;36m0\u001b[0m\u001b[0;34m:\u001b[0m\u001b[0;34m(\u001b[0m\u001b[0;36m0\u001b[0m\u001b[0;34m,\u001b[0m\u001b[0;36m255\u001b[0m\u001b[0;34m,\u001b[0m\u001b[0;36m0\u001b[0m\u001b[0;34m)\u001b[0m\u001b[0;34m,\u001b[0m\u001b[0;36m1\u001b[0m\u001b[0;34m:\u001b[0m\u001b[0;34m(\u001b[0m\u001b[0;36m0\u001b[0m\u001b[0;34m,\u001b[0m\u001b[0;36m0\u001b[0m\u001b[0;34m,\u001b[0m\u001b[0;36m255\u001b[0m\u001b[0;34m)\u001b[0m\u001b[0;34m}\u001b[0m\u001b[0;34m\u001b[0m\u001b[0;34m\u001b[0m\u001b[0m\n\u001b[1;32m     35\u001b[0m         \u001b[0;32mwhile\u001b[0m\u001b[0;34m(\u001b[0m\u001b[0;32mTrue\u001b[0m\u001b[0;34m)\u001b[0m\u001b[0;34m:\u001b[0m\u001b[0;34m\u001b[0m\u001b[0;34m\u001b[0m\u001b[0m\n\u001b[0;32m---> 36\u001b[0;31m             \u001b[0mret\u001b[0m\u001b[0;34m,\u001b[0m\u001b[0mimg\u001b[0m\u001b[0;34m=\u001b[0m\u001b[0mself\u001b[0m\u001b[0;34m.\u001b[0m\u001b[0msource\u001b[0m\u001b[0;34m.\u001b[0m\u001b[0mread\u001b[0m\u001b[0;34m(\u001b[0m\u001b[0;34m)\u001b[0m\u001b[0;34m\u001b[0m\u001b[0;34m\u001b[0m\u001b[0m\n\u001b[0m\u001b[1;32m     37\u001b[0m             \u001b[0mgray\u001b[0m\u001b[0;34m=\u001b[0m\u001b[0mcv2\u001b[0m\u001b[0;34m.\u001b[0m\u001b[0mcvtColor\u001b[0m\u001b[0;34m(\u001b[0m\u001b[0mimg\u001b[0m\u001b[0;34m,\u001b[0m\u001b[0mcv2\u001b[0m\u001b[0;34m.\u001b[0m\u001b[0mCOLOR_BGR2GRAY\u001b[0m\u001b[0;34m)\u001b[0m\u001b[0;34m\u001b[0m\u001b[0;34m\u001b[0m\u001b[0m\n\u001b[1;32m     38\u001b[0m             \u001b[0mfaces\u001b[0m\u001b[0;34m=\u001b[0m\u001b[0mself\u001b[0m\u001b[0;34m.\u001b[0m\u001b[0mface_clsfr\u001b[0m\u001b[0;34m.\u001b[0m\u001b[0mdetectMultiScale\u001b[0m\u001b[0;34m(\u001b[0m\u001b[0mgray\u001b[0m\u001b[0;34m,\u001b[0m\u001b[0;36m1.3\u001b[0m\u001b[0;34m,\u001b[0m\u001b[0;36m5\u001b[0m\u001b[0;34m)\u001b[0m\u001b[0;34m\u001b[0m\u001b[0;34m\u001b[0m\u001b[0m\n",
      "\u001b[0;31mKeyboardInterrupt\u001b[0m: "
     ]
    }
   ],
   "source": [
    "tester.Test()"
   ]
  },
  {
   "cell_type": "code",
   "execution_count": null,
   "id": "abstract-license",
   "metadata": {},
   "outputs": [],
   "source": []
  }
 ],
 "metadata": {
  "kernelspec": {
   "display_name": "Python 3",
   "language": "python",
   "name": "python3"
  },
  "language_info": {
   "codemirror_mode": {
    "name": "ipython",
    "version": 3
   },
   "file_extension": ".py",
   "mimetype": "text/x-python",
   "name": "python",
   "nbconvert_exporter": "python",
   "pygments_lexer": "ipython3",
   "version": "3.8.3"
  }
 },
 "nbformat": 4,
 "nbformat_minor": 5
}
